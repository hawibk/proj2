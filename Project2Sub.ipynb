{
 "cells": [
  {
   "cell_type": "code",
   "execution_count": 443,
   "metadata": {},
   "outputs": [],
   "source": [
    "import glob\n",
    "import json\n",
    "import random\n",
    "import numpy as np\n",
    "import pandas as pd\n",
    "\n",
    "item = glob.glob(r'CORD-19-research-challenge/**/pdf_json/*.json',recursive=True)\n",
    "\n",
    "random_d = np.random.choice(item, int(len(item)*.1))\n",
    "\n",
    "\n",
    "def my_text():\n",
    "    \n",
    "    for j, aJson in enumerate(random_d):\n",
    "        \n",
    "        with open(aJson) as my_json:\n",
    "            \n",
    "            file_data = json.load(my_json)\n",
    "            \n",
    "            my_list = []\n",
    "            \n",
    "            for a in file_data['body_text']:\n",
    "                \n",
    "                only_text = a['text']\n",
    "                \n",
    "                my_list.append(only_text)\n",
    "        \n",
    "                my_str ='\\n'.join(my_list)\n",
    "                \n",
    "            return my_str\n",
    "        "
   ]
  },
  {
   "cell_type": "code",
   "execution_count": 444,
   "metadata": {},
   "outputs": [
    {
     "data": {
      "text/plain": [
       "45941"
      ]
     },
     "execution_count": 444,
     "metadata": {},
     "output_type": "execute_result"
    }
   ],
   "source": [
    "len(item)"
   ]
  },
  {
   "cell_type": "code",
   "execution_count": 445,
   "metadata": {},
   "outputs": [
    {
     "data": {
      "text/plain": [
       "38159"
      ]
     },
     "execution_count": 445,
     "metadata": {},
     "output_type": "execute_result"
    }
   ],
   "source": [
    "file = my_text()\n",
    "len(file)"
   ]
  },
  {
   "cell_type": "code",
   "execution_count": 446,
   "metadata": {},
   "outputs": [],
   "source": [
    "import spacy\n",
    "\n",
    "spacy_nlp = spacy.load('en_core_web_sm')\n",
    "\n",
    "def tokenizing(parag):\n",
    "    \n",
    "    my_parag = spacy_nlp(parag)\n",
    "   \n",
    "    my_return = [sent.text for sent in my_parag.sents]\n",
    "    \n",
    "    #my_str = '\\n'.join(map(str, my_return))\n",
    "        \n",
    "    return my_return"
   ]
  },
  {
   "cell_type": "code",
   "execution_count": 447,
   "metadata": {},
   "outputs": [],
   "source": [
    "text_onlyToken = tokenizing(file)\n",
    "#print(text_onlyToken)\n",
    "\n",
    "#create = pd.DataFrame(text_onlyToken, columns = ['Title'])"
   ]
  },
  {
   "cell_type": "code",
   "execution_count": 448,
   "metadata": {},
   "outputs": [],
   "source": [
    "import re\n",
    "\n",
    "def remove_num(mylist): \n",
    "    pattern = '[0-9]'\n",
    "    mylist = [re.sub(pattern, '', i) for i in mylist] \n",
    "    return mylist\n",
    "  "
   ]
  },
  {
   "cell_type": "code",
   "execution_count": 449,
   "metadata": {},
   "outputs": [],
   "source": [
    "text_noNum = remove_num(text_onlyToken)"
   ]
  },
  {
   "cell_type": "code",
   "execution_count": 450,
   "metadata": {},
   "outputs": [],
   "source": [
    "create_num = pd.DataFrame(text_noNum, columns = ['Title'])"
   ]
  },
  {
   "cell_type": "code",
   "execution_count": 451,
   "metadata": {},
   "outputs": [
    {
     "data": {
      "text/html": [
       "<div>\n",
       "<style scoped>\n",
       "    .dataframe tbody tr th:only-of-type {\n",
       "        vertical-align: middle;\n",
       "    }\n",
       "\n",
       "    .dataframe tbody tr th {\n",
       "        vertical-align: top;\n",
       "    }\n",
       "\n",
       "    .dataframe thead th {\n",
       "        text-align: right;\n",
       "    }\n",
       "</style>\n",
       "<table border=\"1\" class=\"dataframe\">\n",
       "  <thead>\n",
       "    <tr style=\"text-align: right;\">\n",
       "      <th></th>\n",
       "      <th>Title</th>\n",
       "    </tr>\n",
       "  </thead>\n",
       "  <tbody>\n",
       "    <tr>\n",
       "      <td>0</td>\n",
       "      <td>Feline coronaviruses (FCoVs) are important pat...</td>\n",
       "    </tr>\n",
       "    <tr>\n",
       "      <td>1</td>\n",
       "      <td>FCoVs are classified into two pathotypes, the ...</td>\n",
       "    </tr>\n",
       "    <tr>\n",
       "      <td>2</td>\n",
       "      <td>Both FECV and FIPV have two serotypes, type I ...</td>\n",
       "    </tr>\n",
       "    <tr>\n",
       "      <td>3</td>\n",
       "      <td>Infection with FECV is widespread among cats, ...</td>\n",
       "    </tr>\n",
       "    <tr>\n",
       "      <td>4</td>\n",
       "      <td>However, a small portion of cats develop FIP d...</td>\n",
       "    </tr>\n",
       "    <tr>\n",
       "      <td>...</td>\n",
       "      <td>...</td>\n",
       "    </tr>\n",
       "    <tr>\n",
       "      <td>304</td>\n",
       "      <td>RIG-I and MDA activation induce the polymeriza...</td>\n",
       "    </tr>\n",
       "    <tr>\n",
       "      <td>305</td>\n",
       "      <td>These E ligases then synthesize polyubiquitin ...</td>\n",
       "    </tr>\n",
       "    <tr>\n",
       "      <td>306</td>\n",
       "      <td>NEMO then interacts with TANK and recruits TBK...</td>\n",
       "    </tr>\n",
       "    <tr>\n",
       "      <td>307</td>\n",
       "      <td>However, the FIPV nsp-mediated</td>\n",
       "    </tr>\n",
       "    <tr>\n",
       "      <td>308</td>\n",
       "      <td>NEMO cleavage disrupted the interaction betwee...</td>\n",
       "    </tr>\n",
       "  </tbody>\n",
       "</table>\n",
       "<p>309 rows × 1 columns</p>\n",
       "</div>"
      ],
      "text/plain": [
       "                                                 Title\n",
       "0    Feline coronaviruses (FCoVs) are important pat...\n",
       "1    FCoVs are classified into two pathotypes, the ...\n",
       "2    Both FECV and FIPV have two serotypes, type I ...\n",
       "3    Infection with FECV is widespread among cats, ...\n",
       "4    However, a small portion of cats develop FIP d...\n",
       "..                                                 ...\n",
       "304  RIG-I and MDA activation induce the polymeriza...\n",
       "305  These E ligases then synthesize polyubiquitin ...\n",
       "306  NEMO then interacts with TANK and recruits TBK...\n",
       "307                     However, the FIPV nsp-mediated\n",
       "308  NEMO cleavage disrupted the interaction betwee...\n",
       "\n",
       "[309 rows x 1 columns]"
      ]
     },
     "execution_count": 451,
     "metadata": {},
     "output_type": "execute_result"
    }
   ],
   "source": [
    "create_num"
   ]
  },
  {
   "cell_type": "code",
   "execution_count": 452,
   "metadata": {},
   "outputs": [],
   "source": [
    "#text"
   ]
  },
  {
   "cell_type": "code",
   "execution_count": 453,
   "metadata": {},
   "outputs": [],
   "source": [
    "from sklearn.feature_extraction.text import TfidfVectorizer\n",
    "#def vectorize(doc, features):\n",
    "    \n",
    "    #vectorizer = TfidfVectorizer(max_features= features, stop_words = 'english')\n",
    "    #X = vectorizer.fit_transform(doc.ravel())\n",
    "    #return X"
   ]
  },
  {
   "cell_type": "code",
   "execution_count": 465,
   "metadata": {},
   "outputs": [],
   "source": [
    "#text = create_num['Title'].values\n",
    "#X = vectorize(text, 2 ** 12)\n",
    "#X.shape"
   ]
  },
  {
   "cell_type": "code",
   "execution_count": 466,
   "metadata": {},
   "outputs": [],
   "source": [
    "vectorizer = TfidfVectorizer()\n",
    "\n",
    "Y = vectorizer.fit_transform(create_num['Title'].values.ravel())\n",
    "\n",
    "terms = vectorizer.get_feature_names()\n"
   ]
  },
  {
   "cell_type": "code",
   "execution_count": 467,
   "metadata": {},
   "outputs": [],
   "source": [
    "from sklearn.cluster import KMeans\n",
    "\n",
    "my_k = KMeans(n_clusters = 11)\n",
    "\n",
    "fit_predict = my_k.fit_predict(Y)"
   ]
  },
  {
   "cell_type": "code",
   "execution_count": 468,
   "metadata": {},
   "outputs": [
    {
     "name": "stdout",
     "output_type": "stream",
     "text": [
      "Cluster 0:\n",
      "\n",
      " infection\n",
      " df\n",
      " cells\n",
      " or\n",
      " were\n",
      " with\n",
      " inhibitor\n",
      " so\n",
      " the\n",
      " fipv\n",
      "\n",
      "Cluster 1:\n",
      "\n",
      " that\n",
      " we\n",
      " nsp\n",
      " fipv\n",
      " mediated\n",
      " nemo\n",
      " of\n",
      " figure\n",
      " fe\n",
      " induced\n",
      "\n",
      "Cluster 2:\n",
      "\n",
      " irf\n",
      " of\n",
      " the\n",
      " and\n",
      " type\n",
      " nemo\n",
      " cleavage\n",
      " in\n",
      " tank\n",
      " phosphorylation\n",
      "\n",
      "Cluster 3:\n",
      "\n",
      " figure\n",
      " production\n",
      " ifn\n",
      " tbk\n",
      " shown\n",
      " upstream\n",
      " suggesting\n",
      " cleavage\n",
      " inhibit\n",
      " did\n",
      "\n",
      "Cluster 4:\n",
      "\n",
      " ifn\n",
      " the\n",
      " levels\n",
      " were\n",
      " in\n",
      " by\n",
      " figure\n",
      " nsp\n",
      " production\n",
      " and\n",
      "\n",
      "Cluster 5:\n",
      "\n",
      " fipv\n",
      " the\n",
      " nsp\n",
      " of\n",
      " mediated\n",
      " mechanistically\n",
      " further\n",
      " presence\n",
      " in\n",
      " was\n",
      "\n",
      "Cluster 6:\n",
      "\n",
      " all\n",
      " times\n",
      " repeated\n",
      " three\n",
      " were\n",
      " means\n",
      " experiments\n",
      " sd\n",
      " the\n",
      " data\n",
      "\n",
      "Cluster 7:\n",
      "\n",
      " the\n",
      " is\n",
      " and\n",
      " of\n",
      " to\n",
      " are\n",
      " for\n",
      " host\n",
      " as\n",
      " innate\n",
      "\n",
      "Cluster 8:\n",
      "\n",
      " nemoka\n",
      " expression\n",
      " feline\n",
      " this\n",
      " interestingly\n",
      " under\n",
      " likely\n",
      " debilitated\n",
      " detected\n",
      " study\n",
      "\n",
      "Cluster 9:\n",
      "\n",
      " ab\n",
      " catalogue\n",
      " anti\n",
      " no\n",
      " rabbit\n",
      " mouse\n",
      " antibodies\n",
      " myc\n",
      " purchased\n",
      " namely\n",
      "\n",
      "Cluster 10:\n",
      "\n",
      " nemo\n",
      " with\n",
      " plasmid\n",
      " tagged\n",
      " flag\n",
      " expressing\n",
      " nsp\n",
      " or\n",
      " cells\n",
      " vector\n",
      "\n"
     ]
    }
   ],
   "source": [
    "centroids = my_k.cluster_centers_.argsort()[:, ::-1]\n",
    "\n",
    "n_clusters = 11\n",
    "\n",
    "for i in range(n_clusters):\n",
    "    \n",
    "    print(\"Cluster %d:\" % i),\n",
    "    \n",
    "    print()\n",
    "    \n",
    "    for item in centroids[i, :10]:\n",
    "        \n",
    "        print(' %s' % terms[item]),\n",
    "        \n",
    "    print\n",
    "    print()\n"
   ]
  },
  {
   "cell_type": "code",
   "execution_count": 472,
   "metadata": {},
   "outputs": [],
   "source": [
    "from sklearn import metrics\n",
    "from scipy.spatial.distance import cdist\n",
    "\n",
    "# run kmeans with many different k\n",
    "distortions = []\n",
    "K = range(2, 20)\n",
    "for k in K:\n",
    "    k_means = KMeans(n_clusters=k).fit(Y)\n",
    "    k_means.fit(reduced)\n",
    "    distortions.append(sum(np.min(cdist(reduced, k_means.cluster_centers_, 'euclidean'), axis=1)) / reduced.shape[0])"
   ]
  },
  {
   "cell_type": "code",
   "execution_count": 473,
   "metadata": {},
   "outputs": [
    {
     "data": {
      "text/plain": [
       "(309, 207)"
      ]
     },
     "execution_count": 473,
     "metadata": {},
     "output_type": "execute_result"
    }
   ],
   "source": [
    "pca = PCA(n_components=0.99)\n",
    "reduced= pca.fit_transform(Y.toarray())\n",
    "reduced.shape"
   ]
  },
  {
   "cell_type": "code",
   "execution_count": 474,
   "metadata": {},
   "outputs": [
    {
     "data": {
      "image/png": "[encoded data removed]",
      "text/plain": [
       "<Figure size 432x288 with 1 Axes>"
      ]
     },
     "metadata": {
      "needs_background": "light"
     },
     "output_type": "display_data"
    }
   ],
   "source": [
    "import matplotlib.pyplot as plt\n",
    "%matplotlib inline\n",
    "\n",
    "line1 = [K[0], K[-1]]\n",
    "line2 = [distortions[0], distortions[-1]]\n",
    "\n",
    "# Plot the elbow\n",
    "plt.plot(K, distortions, 'b-')\n",
    "plt.plot(line1, line2, 'r')\n",
    "plt.xlabel('number of clusters')\n",
    "plt.ylabel('Distortion')\n",
    "plt.title('Finding optimal k')\n",
    "plt.show()"
   ]
  },
  {
   "cell_type": "code",
   "execution_count": 478,
   "metadata": {},
   "outputs": [
    {
     "data": {
      "text/plain": [
       "0.06003539274213412"
      ]
     },
     "execution_count": 478,
     "metadata": {},
     "output_type": "execute_result"
    }
   ],
   "source": [
    "from sklearn.metrics import silhouette_score\n",
    "\n",
    "score = silhouette_score(Y, fit_predict)\n",
    "score"
   ]
  },
  {
   "cell_type": "code",
   "execution_count": 479,
   "metadata": {},
   "outputs": [],
   "source": []
  },
  {
   "cell_type": "code",
   "execution_count": 489,
   "metadata": {},
   "outputs": [
    {
     "name": "stdout",
     "output_type": "stream",
     "text": [
      "  (0, 238)\t0.15988953996514943\n",
      "  (0, 206)\t0.16848672963784814\n",
      "  (0, 786)\t0.3369734592756963\n",
      "  (0, 548)\t0.16848672963784814\n",
      "  (0, 92)\t0.15322104158240996\n",
      "  (0, 194)\t0.1431657899180415\n",
      "  (0, 1149)\t0.15322104158240996\n",
      "  (0, 749)\t0.13917529200529777\n",
      "  (0, 455)\t0.08501354395123024\n",
      "  (0, 117)\t0.15988953996514943\n",
      "  (0, 841)\t0.27835058401059554\n",
      "  (0, 1059)\t0.13565542339084355\n",
      "  (0, 1141)\t0.17380320781096903\n",
      "  (0, 511)\t0.12705823371814481\n",
      "  (0, 711)\t0.1431657899180415\n",
      "  (0, 259)\t0.08690160390548451\n",
      "  (0, 747)\t0.1858626700046182\n",
      "  (0, 210)\t0.12245154195818983\n",
      "  (0, 587)\t0.12245154195818983\n",
      "  (0, 1061)\t0.19187013820932353\n",
      "  (0, 717)\t0.19759283646813655\n",
      "  (0, 988)\t0.11332541205590621\n",
      "  (0, 224)\t0.07611295732939252\n",
      "  (0, 181)\t0.09034037520339343\n",
      "  (0, 1156)\t0.08266847129472439\n",
      "  (0, 552)\t0.3913705065207805\n",
      "  (0, 459)\t0.1222403750868846\n",
      "  (0, 1074)\t0.2728386479146871\n",
      "  (0, 161)\t0.16551949826728488\n",
      "  (0, 758)\t0.26503342827095305\n",
      "  (0, 1090)\t0.2715085911532724\n",
      "  (0, 1060)\t0.2715085911532724\n",
      "  (0, 938)\t0.2186024559104203\n",
      "  (0, 1081)\t0.2008938455570408\n",
      "  (0, 600)\t0.20893870914287888\n",
      "  (0, 561)\t0.2008938455570408\n",
      "  (0, 1141)\t0.14003792521851904\n",
      "  (0, 1046)\t0.23812853628208153\n",
      "  (0, 809)\t0.2008938455570408\n",
      "  (0, 259)\t0.14003792521851904\n",
      "  (0, 676)\t0.1675137906858499\n",
      "  (0, 859)\t0.16225505421556372\n",
      "  (0, 576)\t0.19400250393897256\n",
      "  (0, 747)\t0.09983637245379749\n",
      "  (0, 210)\t0.19732501018374304\n",
      "  (0, 587)\t0.19732501018374304\n",
      "  (0, 365)\t0.2576546166537428\n",
      "  (0, 1061)\t0.15459493760004356\n",
      "  (0, 717)\t0.21227449293981432\n",
      "  (0, 537)\t0.12051184484685781\n",
      "  (0, 601)\t0.15184234616803857\n",
      "  (0, 1073)\t0.12489279456922975\n",
      "  (0, 224)\t0.12265251902883592\n",
      "  (0, 552)\t0.10511258569423641\n",
      "  (0, 1111)\t0.15751445204017014\n",
      "  (0, 1074)\t0.2931112619045492\n",
      "  (0, 161)\t0.17781802313469128\n",
      "  (0, 758)\t0.08541782830379514\n",
      "  (0, 238)\t0.15988953996514943\n",
      "  (0, 206)\t0.16848672963784814\n",
      "  (0, 786)\t0.3369734592756963\n",
      "  (0, 548)\t0.16848672963784814\n",
      "  (0, 92)\t0.15322104158240996\n",
      "  (0, 194)\t0.1431657899180415\n",
      "  (0, 1149)\t0.15322104158240996\n",
      "  (0, 749)\t0.13917529200529777\n",
      "  (0, 455)\t0.08501354395123024\n",
      "  (0, 117)\t0.15988953996514943\n",
      "  (0, 841)\t0.27835058401059554\n",
      "  (0, 1059)\t0.13565542339084355\n",
      "  (0, 1141)\t0.17380320781096903\n",
      "  (0, 511)\t0.12705823371814481\n",
      "  (0, 711)\t0.1431657899180415\n",
      "  (0, 259)\t0.08690160390548451\n",
      "  (0, 747)\t0.1858626700046182\n",
      "  (0, 210)\t0.12245154195818983\n",
      "  (0, 587)\t0.12245154195818983\n",
      "  (0, 1061)\t0.19187013820932353\n",
      "  (0, 717)\t0.19759283646813655\n",
      "  (0, 988)\t0.11332541205590621\n",
      "  (0, 224)\t0.07611295732939252\n",
      "  (0, 181)\t0.09034037520339343\n",
      "  (0, 1156)\t0.08266847129472439\n",
      "  (0, 552)\t0.3913705065207805\n",
      "  (0, 459)\t0.1222403750868846\n",
      "  (0, 1074)\t0.2728386479146871\n",
      "  (0, 161)\t0.16551949826728488\n",
      "  (0, 758)\t0.26503342827095305\n",
      "  (0, 1090)\t0.2715085911532724\n",
      "  (0, 1060)\t0.2715085911532724\n",
      "  (0, 938)\t0.2186024559104203\n",
      "  (0, 1081)\t0.2008938455570408\n",
      "  (0, 600)\t0.20893870914287888\n",
      "  (0, 561)\t0.2008938455570408\n",
      "  (0, 1141)\t0.14003792521851904\n",
      "  (0, 1046)\t0.23812853628208153\n",
      "  (0, 809)\t0.2008938455570408\n",
      "  (0, 259)\t0.14003792521851904\n",
      "  (0, 676)\t0.1675137906858499\n",
      "  (0, 859)\t0.16225505421556372\n",
      "  (0, 576)\t0.19400250393897256\n",
      "  (0, 747)\t0.09983637245379749\n",
      "  (0, 210)\t0.19732501018374304\n",
      "  (0, 587)\t0.19732501018374304\n",
      "  (0, 365)\t0.2576546166537428\n",
      "  (0, 1061)\t0.15459493760004356\n",
      "  (0, 717)\t0.21227449293981432\n",
      "  (0, 537)\t0.12051184484685781\n",
      "  (0, 601)\t0.15184234616803857\n",
      "  (0, 1073)\t0.12489279456922975\n",
      "  (0, 224)\t0.12265251902883592\n",
      "  (0, 552)\t0.10511258569423641\n",
      "  (0, 1111)\t0.15751445204017014\n",
      "  (0, 1074)\t0.2931112619045492\n",
      "  (0, 161)\t0.17781802313469128\n",
      "  (0, 758)\t0.08541782830379514\n"
     ]
    }
   ],
   "source": [
    "#Text summarization without k-means clustering \n",
    "import networkx as nx\n",
    "\n",
    "text_onlyToken = tokenizing(file)\n",
    "\n",
    "vec = TfidfVectorizer()\n",
    "fitting = vec.fit_transform(text_onlyToken)\n",
    "\n",
    "mat = (fitting*fitting.T)\n",
    "nx_form =nx.from_scipy_sparse_matrix(mat)\n",
    "\n",
    "nx_rank =nx.pagerank(nx_form)\n",
    "\n",
    "ranks = sorted(((points, i) for i,points in nx_rank.items()), reverse = True)\n",
    "\n",
    "indic = [ranks[i][1] for i in range(4)]\n",
    "\n",
    "indic.sort()\n",
    "\n",
    "for i in indic:\n",
    "    print(fitting[i])\n",
    "\n",
    "\n"
   ]
  },
  {
   "cell_type": "code",
   "execution_count": null,
   "metadata": {},
   "outputs": [],
   "source": []
  }
 ],
 "metadata": {
  "kernelspec": {
   "display_name": "Python 3",
   "language": "python",
   "name": "python3"
  },
  "language_info": {
   "codemirror_mode": {
    "name": "ipython",
    "version": 3
   },
   "file_extension": ".py",
   "mimetype": "text/x-python",
   "name": "python",
   "nbconvert_exporter": "python",
   "pygments_lexer": "ipython3",
   "version": "3.7.4"
  }
 },
 "nbformat": 4,
 "nbformat_minor": 4
}
